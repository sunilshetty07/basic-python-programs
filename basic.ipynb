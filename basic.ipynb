{
 "cells": [
  {
   "cell_type": "code",
   "execution_count": 15,
   "metadata": {
    "collapsed": false
   },
   "outputs": [
    {
     "name": "stdout",
     "output_type": "stream",
     "text": [
      "4\n"
     ]
    }
   ],
   "source": [
    "# print value\n",
    "print(4)"
   ]
  },
  {
   "cell_type": "code",
   "execution_count": 5,
   "metadata": {
    "collapsed": false
   },
   "outputs": [
    {
     "name": "stdout",
     "output_type": "stream",
     "text": [
      "<class 'str'>\n",
      "<class 'int'>\n",
      "<class 'float'>\n",
      "<class 'bool'>\n"
     ]
    }
   ],
   "source": [
    "#finding type of value\n",
    "print(type('hello world'))\n",
    "print(type(8))\n",
    "print(type(2.5))\n",
    "print(type(True))"
   ]
  },
  {
   "cell_type": "code",
   "execution_count": 8,
   "metadata": {
    "collapsed": false
   },
   "outputs": [
    {
     "name": "stdout",
     "output_type": "stream",
     "text": [
      "hii good night!\n"
     ]
    }
   ],
   "source": [
    "#create variable\n",
    "msg=\"hii good night!\"\n",
    "print(msg)"
   ]
  },
  {
   "cell_type": "code",
   "execution_count": 9,
   "metadata": {
    "collapsed": false
   },
   "outputs": [
    {
     "name": "stdout",
     "output_type": "stream",
     "text": [
      "10\n",
      "20\n"
     ]
    }
   ],
   "source": [
    "#statement: A statement is a unit of code that the Python interpreter can execute.\n",
    "x=10\n",
    "print(x)\n",
    "print(20)"
   ]
  },
  {
   "cell_type": "code",
   "execution_count": 11,
   "metadata": {
    "collapsed": false
   },
   "outputs": [
    {
     "name": "stdout",
     "output_type": "stream",
     "text": [
      "52\n",
      "52\n"
     ]
    }
   ],
   "source": [
    "#operators\n",
    "print(20+32)\n",
    "a=20\n",
    "b=32\n",
    "sum=a+b\n",
    "print(sum)"
   ]
  },
  {
   "cell_type": "code",
   "execution_count": 14,
   "metadata": {
    "collapsed": false
   },
   "outputs": [
    {
     "name": "stdout",
     "output_type": "stream",
     "text": [
      "1.6666666666666667\n",
      "<class 'float'>\n",
      "1\n",
      "<class 'int'>\n"
     ]
    }
   ],
   "source": [
    "#division\n",
    "a=5\n",
    "b=3\n",
    "res=a/b\n",
    "print(res)\n",
    "print(type(res))\n",
    "res=a//b #convert to integer\n",
    "print(res)\n",
    "print(type(res))\n"
   ]
  },
  {
   "cell_type": "code",
   "execution_count": 16,
   "metadata": {
    "collapsed": false
   },
   "outputs": [
    {
     "name": "stdout",
     "output_type": "stream",
     "text": [
      "10\n"
     ]
    }
   ],
   "source": [
    "#multiplication\n",
    "x=2*5\n",
    "print(x)"
   ]
  },
  {
   "cell_type": "code",
   "execution_count": 17,
   "metadata": {
    "collapsed": false
   },
   "outputs": [
    {
     "name": "stdout",
     "output_type": "stream",
     "text": [
      "6\n",
      "-2\n"
     ]
    }
   ],
   "source": [
    "#subtraction\n",
    "x=8-2\n",
    "print(x)\n",
    "y=3-5\n",
    "print(y)"
   ]
  },
  {
   "cell_type": "code",
   "execution_count": 18,
   "metadata": {
    "collapsed": false
   },
   "outputs": [
    {
     "name": "stdout",
     "output_type": "stream",
     "text": [
      "300\n",
      "100200\n"
     ]
    }
   ],
   "source": [
    "#string\n",
    "a=100\n",
    "b=200\n",
    "print(a+b)\n",
    "\n",
    "x='100'\n",
    "y='200'\n",
    "print(x+y) #for string '+' act as cocatenation"
   ]
  },
  {
   "cell_type": "code",
   "execution_count": 20,
   "metadata": {
    "collapsed": false
   },
   "outputs": [
    {
     "name": "stdout",
     "output_type": "stream",
     "text": [
      "5\n",
      "5\n",
      "enter a number:10\n",
      "10\n",
      "enter a stringsunil\n",
      "sunil\n"
     ]
    }
   ],
   "source": [
    "#taking input from user\n",
    "x=input()\n",
    "print(x)\n",
    "\n",
    "y=input(\"enter a number:\")\n",
    "print(y)\n",
    "\n",
    "a=\"enter a string: \"\n",
    "b=input(a)\n",
    "print(b)"
   ]
  },
  {
   "cell_type": "code",
   "execution_count": 21,
   "metadata": {
    "collapsed": false
   },
   "outputs": [
    {
     "name": "stdout",
     "output_type": "stream",
     "text": [
      "i\n",
      "t\n",
      " \n",
      "i\n",
      "s\n",
      " \n",
      "a\n",
      " \n",
      "s\n",
      "u\n",
      "n\n",
      "n\n",
      "y\n",
      " \n",
      "d\n",
      "a\n",
      "y\n"
     ]
    }
   ],
   "source": [
    "#use of for loop\n",
    "words=\"it is a sunny day\"\n",
    "for word in words:\n",
    "    print(word)"
   ]
  },
  {
   "cell_type": "code",
   "execution_count": 25,
   "metadata": {
    "collapsed": false
   },
   "outputs": [
    {
     "name": "stdout",
     "output_type": "stream",
     "text": [
      "True\n",
      "True\n",
      "False\n",
      "True\n",
      "True\n",
      "False\n",
      "False\n",
      "True\n"
     ]
    }
   ],
   "source": [
    "#boolean expression is an expression that is either true or false.\n",
    "print(10==10)\n",
    "print(5>3)\n",
    "print(20<15)\n",
    "print(20 != 5)\n",
    "print(20 >= 5)\n",
    "print(20 <= 5)\n",
    "print(20 is 5)\n",
    "print(20 is not 5)"
   ]
  },
  {
   "cell_type": "code",
   "execution_count": 27,
   "metadata": {
    "collapsed": false
   },
   "outputs": [
    {
     "name": "stdout",
     "output_type": "stream",
     "text": [
      "False\n",
      "True\n",
      "False\n"
     ]
    }
   ],
   "source": [
    "#logical expression\n",
    "print(5>0 and 20>30)\n",
    "print(5>0 or 20>30)\n",
    "print(not 5>0)"
   ]
  },
  {
   "cell_type": "code",
   "execution_count": 30,
   "metadata": {
    "collapsed": false
   },
   "outputs": [
    {
     "name": "stdout",
     "output_type": "stream",
     "text": [
      "enter number: 5\n"
     ]
    },
    {
     "ename": "TypeError",
     "evalue": "unorderable types: str() > int()",
     "output_type": "error",
     "traceback": [
      "\u001b[0;31m---------------------------------------------------------------------------\u001b[0m",
      "\u001b[0;31mTypeError\u001b[0m                                 Traceback (most recent call last)",
      "\u001b[0;32m<ipython-input-30-3c8885828527>\u001b[0m in \u001b[0;36m<module>\u001b[0;34m()\u001b[0m\n\u001b[1;32m      1\u001b[0m \u001b[1;31m#conditional execution\u001b[0m\u001b[1;33m\u001b[0m\u001b[1;33m\u001b[0m\u001b[0m\n\u001b[1;32m      2\u001b[0m \u001b[0mx\u001b[0m\u001b[1;33m=\u001b[0m\u001b[0minput\u001b[0m\u001b[1;33m(\u001b[0m\u001b[1;34m\"enter number: \"\u001b[0m\u001b[1;33m)\u001b[0m \u001b[1;31m# this will raise error because if you ener number it is considered as string\u001b[0m\u001b[1;33m\u001b[0m\u001b[0m\n\u001b[0;32m----> 3\u001b[0;31m \u001b[1;32mif\u001b[0m \u001b[0mx\u001b[0m\u001b[1;33m>\u001b[0m\u001b[1;36m0\u001b[0m\u001b[1;33m:\u001b[0m\u001b[1;33m\u001b[0m\u001b[0m\n\u001b[0m\u001b[1;32m      4\u001b[0m     \u001b[0mprint\u001b[0m\u001b[1;33m(\u001b[0m\u001b[0mx\u001b[0m\u001b[1;33m,\u001b[0m\u001b[1;34m\" is positive\"\u001b[0m\u001b[1;33m)\u001b[0m\u001b[1;33m\u001b[0m\u001b[0m\n",
      "\u001b[0;31mTypeError\u001b[0m: unorderable types: str() > int()"
     ]
    }
   ],
   "source": [
    "#conditional execution \n",
    "x=input(\"enter number: \") # this will raise error because if you ener number it is considered as string\n",
    "if x>0:\n",
    "    print(x,\" is positive\")"
   ]
  },
  {
   "cell_type": "code",
   "execution_count": 32,
   "metadata": {
    "collapsed": false
   },
   "outputs": [
    {
     "name": "stdout",
     "output_type": "stream",
     "text": [
      "enter number: -5\n"
     ]
    }
   ],
   "source": [
    "#correct method\n",
    "x=eval(input(\"enter number: \"))\n",
    "if x>0:\n",
    "    print(x,\" is positive\")"
   ]
  },
  {
   "cell_type": "code",
   "execution_count": 33,
   "metadata": {
    "collapsed": false
   },
   "outputs": [
    {
     "name": "stdout",
     "output_type": "stream",
     "text": [
      "enter number: 5\n",
      "5  is positive\n"
     ]
    }
   ],
   "source": [
    "#method2\n",
    "x=input(\"enter number: \")\n",
    "x=int(x)\n",
    "if x>0:\n",
    "    print(x,\" is positive\")"
   ]
  },
  {
   "cell_type": "code",
   "execution_count": 34,
   "metadata": {
    "collapsed": false
   },
   "outputs": [
    {
     "name": "stdout",
     "output_type": "stream",
     "text": [
      "enter number: 4\n",
      "4  is positive\n"
     ]
    }
   ],
   "source": [
    "#example\n",
    "x=input(\"enter number: \")\n",
    "if x>str(0):\n",
    "    print(x,\" is positive\")"
   ]
  },
  {
   "cell_type": "code",
   "execution_count": 36,
   "metadata": {
    "collapsed": false
   },
   "outputs": [
    {
     "name": "stdout",
     "output_type": "stream",
     "text": [
      "enter x: 10\n",
      "10  is even number\n"
     ]
    }
   ],
   "source": [
    "#if else\n",
    "x=eval(input(\"enter x: \"))\n",
    "if x%2==0:\n",
    "    print(x,' is even number')\n",
    "else:\n",
    "    print(x,' is odd number')"
   ]
  },
  {
   "cell_type": "code",
   "execution_count": 39,
   "metadata": {
    "collapsed": false
   },
   "outputs": [
    {
     "name": "stdout",
     "output_type": "stream",
     "text": [
      "enter the value of x: 5\n",
      "enter the value of y: 5\n",
      "5  and  5  are equal\n"
     ]
    }
   ],
   "source": [
    "#elif\n",
    "x=eval(input('enter the value of x: '))\n",
    "y=eval(input('enter the value of y: '))\n",
    "if x<y:\n",
    "    print(x,' is less than ',y)\n",
    "elif x>y:\n",
    "    print(x,'is greater than ',y)\n",
    "else:\n",
    "    print(x,' and ',y,' are equal')"
   ]
  },
  {
   "cell_type": "code",
   "execution_count": 42,
   "metadata": {
    "collapsed": false
   },
   "outputs": [
    {
     "name": "stdout",
     "output_type": "stream",
     "text": [
      "enter the value of x: 5\n",
      "enter the value of y: 5\n",
      "5  and  5  are equal\n"
     ]
    }
   ],
   "source": [
    "#nested if\n",
    "x=eval(input('enter the value of x: '))\n",
    "y=eval(input('enter the value of y: '))\n",
    "if x == y:\n",
    "    print(x,' and ',y,' are equal')\n",
    "else:\n",
    "    if x < y:\n",
    "        print(x,' is less than ',y)\n",
    "    else:\n",
    "        print(x,'is greater than ',y)"
   ]
  },
  {
   "cell_type": "code",
   "execution_count": 43,
   "metadata": {
    "collapsed": false,
    "scrolled": true
   },
   "outputs": [
    {
     "name": "stdout",
     "output_type": "stream",
     "text": [
      "Enter Fahrenheit Temperature: 72\n",
      "22.22222222222222\n"
     ]
    }
   ],
   "source": [
    "#convert fahrenheit temperature to celsius\n",
    "fahr = eval(input('Enter Fahrenheit Temperature: '))\n",
    "cel = (fahr - 32.0) * 5.0 / 9.0\n",
    "print(cel)"
   ]
  },
  {
   "cell_type": "code",
   "execution_count": 45,
   "metadata": {
    "collapsed": false
   },
   "outputs": [
    {
     "name": "stdout",
     "output_type": "stream",
     "text": [
      "Enter celsius Temperature: 98.5\n",
      "209.3\n"
     ]
    }
   ],
   "source": [
    "#convert celsius temperature to fahrenheit temperature\n",
    "cel = eval(input('Enter celsius Temperature: '))\n",
    "fahr = (cel*9.0/5)+32\n",
    "print(fahr)"
   ]
  },
  {
   "cell_type": "code",
   "execution_count": 47,
   "metadata": {
    "collapsed": false
   },
   "outputs": [
    {
     "name": "stdout",
     "output_type": "stream",
     "text": [
      "Enter Fahrenheit Temperature:sunil\n",
      "Please enter a number\n"
     ]
    }
   ],
   "source": [
    "# try catch\n",
    "inp = input('Enter Fahrenheit Temperature:')\n",
    "try:\n",
    "    fahr = float(inp)\n",
    "    cel = (fahr - 32.0) * 5.0 / 9.0\n",
    "    print(cel)\n",
    "except:\n",
    "    print('Please enter a number')"
   ]
  },
  {
   "cell_type": "code",
   "execution_count": null,
   "metadata": {
    "collapsed": true
   },
   "outputs": [],
   "source": []
  }
 ],
 "metadata": {
  "anaconda-cloud": {},
  "kernelspec": {
   "display_name": "Python [conda env:Anaconda2]",
   "language": "python",
   "name": "conda-env-Anaconda2-py"
  },
  "language_info": {
   "codemirror_mode": {
    "name": "ipython",
    "version": 3
   },
   "file_extension": ".py",
   "mimetype": "text/x-python",
   "name": "python",
   "nbconvert_exporter": "python",
   "pygments_lexer": "ipython3",
   "version": "3.5.6"
  }
 },
 "nbformat": 4,
 "nbformat_minor": 1
}
