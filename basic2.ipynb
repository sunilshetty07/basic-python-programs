{
 "cells": [
  {
   "cell_type": "code",
   "execution_count": 5,
   "metadata": {
    "collapsed": false
   },
   "outputs": [
    {
     "name": "stdout",
     "output_type": "stream",
     "text": [
      "40\n",
      "10\n",
      "y\n",
      " \n"
     ]
    }
   ],
   "source": [
    "#built in functions\n",
    "print(max(10,20,30,40))#print maximum value\n",
    "print(min(10,20,30,40)) #print minimum value\n",
    "print(max('sunil shetty')) #print maximum value in string 'y'\n",
    "print(min('sunil shetty')) #print minimum value in a string ' '(space)"
   ]
  },
  {
   "cell_type": "code",
   "execution_count": 6,
   "metadata": {
    "collapsed": false
   },
   "outputs": [
    {
     "name": "stdout",
     "output_type": "stream",
     "text": [
      "16\n"
     ]
    }
   ],
   "source": [
    "#to find length in a string\n",
    "str=\"hii good morning\"\n",
    "print(len(str)) #it also count space as 1"
   ]
  },
  {
   "cell_type": "code",
   "execution_count": 7,
   "metadata": {
    "collapsed": false
   },
   "outputs": [
    {
     "name": "stdout",
     "output_type": "stream",
     "text": [
      "enter the number: 10\n",
      "<class 'str'>\n",
      "<class 'int'>\n"
     ]
    }
   ],
   "source": [
    "#type conversion\n",
    "inp=input(\"enter the number: \")\n",
    "print(type(inp))\n",
    "inp=int(inp) #string is converted into int\n",
    "print(type(inp))"
   ]
  },
  {
   "cell_type": "code",
   "execution_count": 8,
   "metadata": {
    "collapsed": false
   },
   "outputs": [
    {
     "name": "stdout",
     "output_type": "stream",
     "text": [
      "enter the number: sunil\n",
      "<class 'str'>\n"
     ]
    },
    {
     "ename": "ValueError",
     "evalue": "invalid literal for int() with base 10: 'sunil'",
     "output_type": "error",
     "traceback": [
      "\u001b[0;31m---------------------------------------------------------------------------\u001b[0m",
      "\u001b[0;31mValueError\u001b[0m                                Traceback (most recent call last)",
      "\u001b[0;32m<ipython-input-8-4dd6f8ec9c79>\u001b[0m in \u001b[0;36m<module>\u001b[0;34m()\u001b[0m\n\u001b[1;32m      2\u001b[0m \u001b[0minp\u001b[0m\u001b[1;33m=\u001b[0m\u001b[0minput\u001b[0m\u001b[1;33m(\u001b[0m\u001b[1;34m\"enter the number: \"\u001b[0m\u001b[1;33m)\u001b[0m\u001b[1;33m\u001b[0m\u001b[0m\n\u001b[1;32m      3\u001b[0m \u001b[0mprint\u001b[0m\u001b[1;33m(\u001b[0m\u001b[0mtype\u001b[0m\u001b[1;33m(\u001b[0m\u001b[0minp\u001b[0m\u001b[1;33m)\u001b[0m\u001b[1;33m)\u001b[0m\u001b[1;33m\u001b[0m\u001b[0m\n\u001b[0;32m----> 4\u001b[0;31m \u001b[0minp\u001b[0m\u001b[1;33m=\u001b[0m\u001b[0mint\u001b[0m\u001b[1;33m(\u001b[0m\u001b[0minp\u001b[0m\u001b[1;33m)\u001b[0m \u001b[1;31m#string is converted into int\u001b[0m\u001b[1;33m\u001b[0m\u001b[0m\n\u001b[0m\u001b[1;32m      5\u001b[0m \u001b[0mprint\u001b[0m\u001b[1;33m(\u001b[0m\u001b[0mtype\u001b[0m\u001b[1;33m(\u001b[0m\u001b[0minp\u001b[0m\u001b[1;33m)\u001b[0m\u001b[1;33m)\u001b[0m\u001b[1;33m\u001b[0m\u001b[0m\n",
      "\u001b[0;31mValueError\u001b[0m: invalid literal for int() with base 10: 'sunil'"
     ]
    }
   ],
   "source": [
    "#type conversion error\n",
    "inp=input(\"enter the number: \")\n",
    "print(type(inp))\n",
    "inp=int(inp) #letters cant be converted\n",
    "print(type(inp))"
   ]
  },
  {
   "cell_type": "code",
   "execution_count": 10,
   "metadata": {
    "collapsed": false
   },
   "outputs": [
    {
     "name": "stdout",
     "output_type": "stream",
     "text": [
      "<class 'float'>\n",
      "<class 'int'>\n",
      "<class 'int'>\n",
      "<class 'float'>\n"
     ]
    }
   ],
   "source": [
    "#convert float to int and vice versa\n",
    "x=10.25\n",
    "print(type(x))\n",
    "x=int(x)\n",
    "print(type(x))\n",
    "\n",
    "y=10\n",
    "print(type(y))\n",
    "y=float(y)\n",
    "print(type(y))"
   ]
  },
  {
   "cell_type": "code",
   "execution_count": 28,
   "metadata": {
    "collapsed": false
   },
   "outputs": [
    {
     "name": "stdout",
     "output_type": "stream",
     "text": [
      "enter no:'45'\n",
      "'45'\n",
      "<class 'str'>\n"
     ]
    }
   ],
   "source": [
    "x=input(\"enter no:\")\n",
    "print(x)\n",
    "print(type(x))"
   ]
  },
  {
   "cell_type": "code",
   "execution_count": 24,
   "metadata": {
    "collapsed": false
   },
   "outputs": [
    {
     "name": "stdout",
     "output_type": "stream",
     "text": [
      "3.5.6 |Anaconda 4.2.0 (64-bit)| (default, Aug 26 2018, 16:05:27) [MSC v.1900 64 bit (AMD64)]\n"
     ]
    }
   ],
   "source": [
    "#check python version\n",
    "import sys\n",
    "print(sys.version)"
   ]
  },
  {
   "cell_type": "code",
   "execution_count": 30,
   "metadata": {
    "collapsed": false
   },
   "outputs": [
    {
     "name": "stdout",
     "output_type": "stream",
     "text": [
      "5\n"
     ]
    }
   ],
   "source": [
    "#random number\n",
    "import random\n",
    "print(random.randint(1, 10))"
   ]
  },
  {
   "cell_type": "code",
   "execution_count": 32,
   "metadata": {
    "collapsed": false
   },
   "outputs": [
    {
     "name": "stdout",
     "output_type": "stream",
     "text": [
      "3\n",
      "no\n"
     ]
    }
   ],
   "source": [
    "x=(1,2,3)\n",
    "print(random.choice(x))\n",
    "\n",
    "y=['yes','no','maybe']\n",
    "print(random.choice(y))"
   ]
  },
  {
   "cell_type": "code",
   "execution_count": 34,
   "metadata": {
    "collapsed": false
   },
   "outputs": [
    {
     "name": "stdout",
     "output_type": "stream",
     "text": [
      "<module 'math' (built-in)>\n",
      "<class 'module'>\n"
     ]
    }
   ],
   "source": [
    "#math function\n",
    "import math\n",
    "print(math)\n",
    "print(type(math))"
   ]
  },
  {
   "cell_type": "code",
   "execution_count": 35,
   "metadata": {
    "collapsed": false
   },
   "outputs": [
    {
     "name": "stdout",
     "output_type": "stream",
     "text": [
      "8.0\n",
      "<class 'float'>\n"
     ]
    }
   ],
   "source": [
    "x=math.pow(2,3)\n",
    "print(x)\n",
    "print(type(x))"
   ]
  },
  {
   "cell_type": "code",
   "execution_count": 36,
   "metadata": {
    "collapsed": false
   },
   "outputs": [
    {
     "name": "stdout",
     "output_type": "stream",
     "text": [
      "enter first number: 10\n",
      "enter second number: 20\n",
      "30\n"
     ]
    }
   ],
   "source": [
    "#creating user defined function\n",
    "def add():\n",
    "    x=eval(input(\"enter first number: \"))\n",
    "    y=eval(input(\"enter second number: \"))\n",
    "    res=x+y\n",
    "    return res\n",
    "z=add()\n",
    "print(z)"
   ]
  },
  {
   "cell_type": "code",
   "execution_count": 37,
   "metadata": {
    "collapsed": false
   },
   "outputs": [
    {
     "name": "stdout",
     "output_type": "stream",
     "text": [
      "enter first number: 10\n",
      "enter second number: 20\n",
      "30\n",
      "None\n"
     ]
    }
   ],
   "source": [
    "def add():\n",
    "    x=eval(input(\"enter first number: \"))\n",
    "    y=eval(input(\"enter second number: \"))\n",
    "    res=x+y\n",
    "    print(res)\n",
    "z=add() #not a proper way\n",
    "print(z) #it will print none"
   ]
  },
  {
   "cell_type": "code",
   "execution_count": 38,
   "metadata": {
    "collapsed": false
   },
   "outputs": [
    {
     "name": "stdout",
     "output_type": "stream",
     "text": [
      "enter first number: 10\n",
      "enter second number: 22\n",
      "32\n"
     ]
    }
   ],
   "source": [
    "def add():\n",
    "    x=eval(input(\"enter first number: \"))\n",
    "    y=eval(input(\"enter second number: \"))\n",
    "    res=x+y\n",
    "    print(res)\n",
    "add()"
   ]
  },
  {
   "cell_type": "code",
   "execution_count": 39,
   "metadata": {
    "collapsed": false
   },
   "outputs": [
    {
     "name": "stdout",
     "output_type": "stream",
     "text": [
      "> hiii uyys\n",
      "hiii uyys\n",
      "> done\n",
      "Done!\n"
     ]
    }
   ],
   "source": [
    "#while loop\n",
    "while True:\n",
    "    line = input('enter a string ') #enter done to stop iteration\n",
    "    if line == 'done':\n",
    "        break\n",
    "    print(line)\n",
    "print('Done!')"
   ]
  },
  {
   "cell_type": "code",
   "execution_count": 45,
   "metadata": {
    "collapsed": false
   },
   "outputs": [
    {
     "name": "stdout",
     "output_type": "stream",
     "text": [
      "0\n",
      "1\n",
      "2\n",
      "3\n",
      "4\n",
      "5\n",
      "6\n",
      "7\n",
      "8\n",
      "9\n"
     ]
    }
   ],
   "source": [
    "# while loop with condition\n",
    "i=0\n",
    "while(i<10):\n",
    "    print(i)\n",
    "    i=i+1"
   ]
  },
  {
   "cell_type": "code",
   "execution_count": 46,
   "metadata": {
    "collapsed": false
   },
   "outputs": [
    {
     "name": "stdout",
     "output_type": "stream",
     "text": [
      "0123456789"
     ]
    }
   ],
   "source": [
    "#usin end in print\n",
    "i=0\n",
    "while(i<10):\n",
    "    print(i,end='')\n",
    "    i=i+1"
   ]
  },
  {
   "cell_type": "code",
   "execution_count": 49,
   "metadata": {
    "collapsed": false
   },
   "outputs": [
    {
     "name": "stdout",
     "output_type": "stream",
     "text": [
      "0\t1\t2\t3\t4\t5\t6\t7\t8\t9\t"
     ]
    }
   ],
   "source": [
    "#usin end in print\n",
    "i=0\n",
    "while(i<10):\n",
    "    print(i,end='\\t')\n",
    "    i=i+1"
   ]
  },
  {
   "cell_type": "code",
   "execution_count": 53,
   "metadata": {
    "collapsed": false
   },
   "outputs": [
    {
     "name": "stdout",
     "output_type": "stream",
     "text": [
      "0-->sunil\n",
      "1-->sunil\n",
      "2-->sunil\n",
      "3-->sunil\n",
      "4-->sunil\n",
      "5-->sunil\n",
      "6-->sunil\n",
      "7-->sunil\n",
      "8-->sunil\n",
      "9-->sunil\n"
     ]
    }
   ],
   "source": [
    "#usin end in print\n",
    "i=0\n",
    "while(i<10):\n",
    "    print(i,end='-->sunil\\n')\n",
    "    i=i+1"
   ]
  },
  {
   "cell_type": "code",
   "execution_count": 54,
   "metadata": {
    "collapsed": false
   },
   "outputs": [
    {
     "name": "stdout",
     "output_type": "stream",
     "text": [
      "Good Morning:  Vidyesh\n",
      "Good Morning:  Vijeth\n",
      "Good Morning:  Shreyas\n",
      "Good Morning:  Sharan\n",
      "Good Morning:  Sachin\n",
      "Good Morning:  Varun\n",
      "Good Morning:  Vinay\n"
     ]
    }
   ],
   "source": [
    "#for loop\n",
    "friends=['Vidyesh','Vijeth','Shreyas','Sharan','Sachin','Varun','Vinay']\n",
    "for friend in friends:\n",
    "    print('Good Morning: ',friend)"
   ]
  },
  {
   "cell_type": "code",
   "execution_count": 56,
   "metadata": {
    "collapsed": false
   },
   "outputs": [
    {
     "name": "stdout",
     "output_type": "stream",
     "text": [
      "Total  160\n"
     ]
    }
   ],
   "source": [
    "res=0\n",
    "for i in [10,20,30,45,25,30]:\n",
    "    res=res+i\n",
    "print('Total ',res)"
   ]
  },
  {
   "cell_type": "code",
   "execution_count": 57,
   "metadata": {
    "collapsed": false
   },
   "outputs": [
    {
     "name": "stdout",
     "output_type": "stream",
     "text": [
      "Largest number is:  20\n"
     ]
    }
   ],
   "source": [
    "#program to find largest value\n",
    "large= None\n",
    "for i in [3,5,7,11,2,3,5,20,10,7]:\n",
    "    if large is None or i>large:\n",
    "        large=i\n",
    "print('Largest number is: ',large)"
   ]
  },
  {
   "cell_type": "code",
   "execution_count": 59,
   "metadata": {
    "collapsed": false
   },
   "outputs": [
    {
     "name": "stdout",
     "output_type": "stream",
     "text": [
      "Smallest number is:  2\n"
     ]
    }
   ],
   "source": [
    "#program to find smallest value\n",
    "small= None\n",
    "for i in [3,5,7,11,2,3,5,20,10,7]:\n",
    "    if small is None or i<small:\n",
    "        small=i\n",
    "print('Smallest number is: ',small)"
   ]
  },
  {
   "cell_type": "code",
   "execution_count": 60,
   "metadata": {
    "collapsed": false
   },
   "outputs": [
    {
     "name": "stdout",
     "output_type": "stream",
     "text": [
      "10\n"
     ]
    }
   ],
   "source": [
    "s=[10,20,30,20,25,60,14]\n",
    "print(min(s))"
   ]
  },
  {
   "cell_type": "code",
   "execution_count": 61,
   "metadata": {
    "collapsed": false
   },
   "outputs": [
    {
     "name": "stdout",
     "output_type": "stream",
     "text": [
      "60\n"
     ]
    }
   ],
   "source": [
    "s=[10,20,30,20,25,60,14]\n",
    "print(max(s))"
   ]
  }
 ],
 "metadata": {
  "anaconda-cloud": {},
  "kernelspec": {
   "display_name": "Python [conda env:Anaconda2]",
   "language": "python",
   "name": "conda-env-Anaconda2-py"
  },
  "language_info": {
   "codemirror_mode": {
    "name": "ipython",
    "version": 3
   },
   "file_extension": ".py",
   "mimetype": "text/x-python",
   "name": "python",
   "nbconvert_exporter": "python",
   "pygments_lexer": "ipython3",
   "version": "3.5.6"
  }
 },
 "nbformat": 4,
 "nbformat_minor": 1
}
