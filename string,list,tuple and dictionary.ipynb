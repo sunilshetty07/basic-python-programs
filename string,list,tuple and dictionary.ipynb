{
 "cells": [
  {
   "cell_type": "code",
   "execution_count": 1,
   "metadata": {
    "collapsed": false
   },
   "outputs": [
    {
     "name": "stdout",
     "output_type": "stream",
     "text": [
      "<class 'str'>\n",
      "<class 'str'>\n"
     ]
    }
   ],
   "source": [
    "name=\"sunil\"\n",
    "print(type(name))\n",
    "\n",
    "s='abc'\n",
    "print(type(s))"
   ]
  },
  {
   "cell_type": "code",
   "execution_count": 2,
   "metadata": {
    "collapsed": false
   },
   "outputs": [
    {
     "name": "stdout",
     "output_type": "stream",
     "text": [
      "\n"
     ]
    }
   ],
   "source": [
    "#empty string\n",
    "s=\"\"\n",
    "print(s)"
   ]
  },
  {
   "cell_type": "code",
   "execution_count": 4,
   "metadata": {
    "collapsed": false
   },
   "outputs": [
    {
     "name": "stdout",
     "output_type": "stream",
     "text": [
      "exexex\n"
     ]
    }
   ],
   "source": [
    "s=\"ex\"*3\n",
    "print(s)"
   ]
  },
  {
   "cell_type": "code",
   "execution_count": 5,
   "metadata": {
    "collapsed": false
   },
   "outputs": [
    {
     "name": "stdout",
     "output_type": "stream",
     "text": [
      "5\n"
     ]
    }
   ],
   "source": [
    "s=\"sunil\"\n",
    "print(len(s))"
   ]
  },
  {
   "cell_type": "code",
   "execution_count": 11,
   "metadata": {
    "collapsed": false
   },
   "outputs": [
    {
     "name": "stdout",
     "output_type": "stream",
     "text": [
      "hellohello10\n",
      "0\n"
     ]
    }
   ],
   "source": [
    "def d_w(word):\n",
    "    return word*2+str(len(word*2))\n",
    "\n",
    "print(d_w(\"hello\"))\n",
    "print(d_w(\"\"))"
   ]
  },
  {
   "cell_type": "code",
   "execution_count": 12,
   "metadata": {
    "collapsed": false
   },
   "outputs": [
    {
     "name": "stdout",
     "output_type": "stream",
     "text": [
      "u\n"
     ]
    }
   ],
   "source": [
    "#string indexing\n",
    "name=\"sunil\"\n",
    "print(name[1]) #counting index from zero"
   ]
  },
  {
   "cell_type": "code",
   "execution_count": 13,
   "metadata": {
    "collapsed": false
   },
   "outputs": [
    {
     "name": "stdout",
     "output_type": "stream",
     "text": [
      "l\n"
     ]
    }
   ],
   "source": [
    "print(name[4])"
   ]
  },
  {
   "cell_type": "code",
   "execution_count": 14,
   "metadata": {
    "collapsed": false
   },
   "outputs": [
    {
     "ename": "IndexError",
     "evalue": "string index out of range",
     "output_type": "error",
     "traceback": [
      "\u001b[0;31m---------------------------------------------------------------------------\u001b[0m",
      "\u001b[0;31mIndexError\u001b[0m                                Traceback (most recent call last)",
      "\u001b[0;32m<ipython-input-14-ffd797f732fc>\u001b[0m in \u001b[0;36m<module>\u001b[0;34m()\u001b[0m\n\u001b[0;32m----> 1\u001b[0;31m \u001b[0mprint\u001b[0m\u001b[1;33m(\u001b[0m\u001b[0mname\u001b[0m\u001b[1;33m[\u001b[0m\u001b[1;36m6\u001b[0m\u001b[1;33m]\u001b[0m\u001b[1;33m)\u001b[0m\u001b[1;33m\u001b[0m\u001b[0m\n\u001b[0m",
      "\u001b[0;31mIndexError\u001b[0m: string index out of range"
     ]
    }
   ],
   "source": [
    "#error\n",
    "print(name[6])"
   ]
  },
  {
   "cell_type": "code",
   "execution_count": 25,
   "metadata": {
    "collapsed": false
   },
   "outputs": [
    {
     "name": "stdout",
     "output_type": "stream",
     "text": [
      "s\n",
      "r\n",
      "False\n"
     ]
    }
   ],
   "source": [
    "text=\"random string with lot of characters\"\n",
    "print(text[-1]) #print last letter\n",
    "print(text[-2])\n",
    "if text[-1]==text[-2] :\n",
    "    print(True)\n",
    "else:\n",
    "    print(False)"
   ]
  },
  {
   "cell_type": "code",
   "execution_count": 39,
   "metadata": {
    "collapsed": false
   },
   "outputs": [
    {
     "name": "stdout",
     "output_type": "stream",
     "text": [
      "True\n",
      "True\n",
      "False\n"
     ]
    }
   ],
   "source": [
    "def first_last(msg):\n",
    "    if msg==\"\":#for empty string return true\n",
    "        return True\n",
    "    elif (msg[0]!=msg[-1]):\n",
    "        return False\n",
    "    else:\n",
    "        return True\n",
    "print(first_last(\"else\"))\n",
    "print(first_last(\"\"))\n",
    "print(first_last(\"sunil\"))"
   ]
  },
  {
   "cell_type": "code",
   "execution_count": 40,
   "metadata": {
    "collapsed": false
   },
   "outputs": [
    {
     "name": "stdout",
     "output_type": "stream",
     "text": [
      "oran\n"
     ]
    }
   ],
   "source": [
    "#slicing\n",
    "color=\"orange\"\n",
    "print(color[0:4])"
   ]
  },
  {
   "cell_type": "code",
   "execution_count": 42,
   "metadata": {
    "collapsed": false
   },
   "outputs": [
    {
     "name": "stdout",
     "output_type": "stream",
     "text": [
      "Pine\n",
      "apple\n",
      "Pineapple\n",
      "Pineapple\n"
     ]
    }
   ],
   "source": [
    "fruit=\"Pineapple\"\n",
    "print(fruit[:4])\n",
    "print(fruit[4:])\n",
    "print(fruit[0:])\n",
    "print(fruit[:len(fruit)])"
   ]
  },
  {
   "cell_type": "code",
   "execution_count": 43,
   "metadata": {
    "collapsed": false
   },
   "outputs": [
    {
     "ename": "TypeError",
     "evalue": "'str' object does not support item assignment",
     "output_type": "error",
     "traceback": [
      "\u001b[0;31m---------------------------------------------------------------------------\u001b[0m",
      "\u001b[0;31mTypeError\u001b[0m                                 Traceback (most recent call last)",
      "\u001b[0;32m<ipython-input-43-e48d32d4e38b>\u001b[0m in \u001b[0;36m<module>\u001b[0;34m()\u001b[0m\n\u001b[1;32m      1\u001b[0m \u001b[0mmsg\u001b[0m\u001b[1;33m=\u001b[0m\u001b[1;34m\"A kong string with silly typo\"\u001b[0m\u001b[1;33m\u001b[0m\u001b[0m\n\u001b[0;32m----> 2\u001b[0;31m \u001b[0mmsg\u001b[0m\u001b[1;33m[\u001b[0m\u001b[1;36m2\u001b[0m\u001b[1;33m]\u001b[0m\u001b[1;33m=\u001b[0m\u001b[1;34m\"l\"\u001b[0m\u001b[1;33m\u001b[0m\u001b[0m\n\u001b[0m",
      "\u001b[0;31mTypeError\u001b[0m: 'str' object does not support item assignment"
     ]
    }
   ],
   "source": [
    "msg=\"A kong string with silly typo\"\n",
    "msg[2]=\"l\" #string are immutable"
   ]
  },
  {
   "cell_type": "code",
   "execution_count": 45,
   "metadata": {
    "collapsed": false
   },
   "outputs": [
    {
     "name": "stdout",
     "output_type": "stream",
     "text": [
      "A long string with silly typo\n"
     ]
    }
   ],
   "source": [
    "msg=\"A kong string with silly typo\"\n",
    "new_msg=msg[0:2]+\"l\"+msg[3:]\n",
    "print(new_msg)"
   ]
  },
  {
   "cell_type": "code",
   "execution_count": 51,
   "metadata": {
    "collapsed": false
   },
   "outputs": [
    {
     "name": "stdout",
     "output_type": "stream",
     "text": [
      "5\n",
      "7\n",
      "4\n"
     ]
    }
   ],
   "source": [
    "pets=\"cats & dogs\"\n",
    "print(pets.index(\"&\"))#using index method\n",
    "print(pets.index(\"dog\"))\n",
    "print(pets.index(\" \"))"
   ]
  },
  {
   "cell_type": "code",
   "execution_count": 52,
   "metadata": {
    "collapsed": false
   },
   "outputs": [
    {
     "ename": "ValueError",
     "evalue": "substring not found",
     "output_type": "error",
     "traceback": [
      "\u001b[0;31m---------------------------------------------------------------------------\u001b[0m",
      "\u001b[0;31mValueError\u001b[0m                                Traceback (most recent call last)",
      "\u001b[0;32m<ipython-input-52-7e1a5cb44b6a>\u001b[0m in \u001b[0;36m<module>\u001b[0;34m()\u001b[0m\n\u001b[1;32m      1\u001b[0m \u001b[1;31m#if substring not found\u001b[0m\u001b[1;33m\u001b[0m\u001b[1;33m\u001b[0m\u001b[0m\n\u001b[0;32m----> 2\u001b[0;31m \u001b[0mprint\u001b[0m\u001b[1;33m(\u001b[0m\u001b[0mpets\u001b[0m\u001b[1;33m.\u001b[0m\u001b[0mindex\u001b[0m\u001b[1;33m(\u001b[0m\u001b[1;34m\"rat\"\u001b[0m\u001b[1;33m)\u001b[0m\u001b[1;33m)\u001b[0m\u001b[1;33m\u001b[0m\u001b[0m\n\u001b[0m",
      "\u001b[0;31mValueError\u001b[0m: substring not found"
     ]
    }
   ],
   "source": [
    "#if substring not found\n",
    "print(pets.index(\"rat\"))"
   ]
  },
  {
   "cell_type": "code",
   "execution_count": 54,
   "metadata": {
    "collapsed": false
   },
   "outputs": [
    {
     "name": "stdout",
     "output_type": "stream",
     "text": [
      "True\n",
      "False\n"
     ]
    }
   ],
   "source": [
    "#using keyword in to check substring\n",
    "print(\"dog\" in pets)\n",
    "print(\"rat\" in pets)"
   ]
  },
  {
   "cell_type": "code",
   "execution_count": 59,
   "metadata": {
    "collapsed": false
   },
   "outputs": [
    {
     "name": "stdout",
     "output_type": "stream",
     "text": [
      "sunil07@yahoo.com\n",
      "trivikram@yahoo.com\n",
      "swarup@yahoo.com\n",
      "vijeth1998@yahoo.com\n",
      "vidyesh@yahoo.com\n"
     ]
    }
   ],
   "source": [
    "#real world problem\n",
    "def replace_domain(email,old_domain,new_domain):\n",
    "    if \"@\" + old_domain in email:\n",
    "        index=email.index(\"@\"+old_domain)\n",
    "        new_email=email[:index]+\"@\"+new_domain\n",
    "        return new_email\n",
    "    return email\n",
    "mail=[\"sunil07@gmail.com\",\"trivikram@gmail.com\",\"swarup@gmail.com\",\"vijeth1998@gmail.com\",\"vidyesh@gmail.com\"]\n",
    "for m in mail:\n",
    "    print(replace_domain(m,\"gmail.com\",\"yahoo.com\"))"
   ]
  },
  {
   "cell_type": "code",
   "execution_count": 65,
   "metadata": {
    "collapsed": false
   },
   "outputs": [
    {
     "name": "stdout",
     "output_type": "stream",
     "text": [
      "SUNIL\n",
      "sunil\n",
      "9\n",
      "abc\n",
      "3\n",
      "   abc\n",
      "6\n",
      "abc   \n",
      "6\n"
     ]
    }
   ],
   "source": [
    "#string methods\n",
    "s=\"Sunil\"\n",
    "print(s.upper())\n",
    "print(s.lower())\n",
    "#strip\n",
    "st=\"   abc   \"\n",
    "print(len(st))\n",
    "print(st.strip())\n",
    "print(len(st.strip()))\n",
    "print(st.rstrip())\n",
    "print(len(st.rstrip()))\n",
    "print(st.lstrip())\n",
    "print(len(st.lstrip()))"
   ]
  },
  {
   "cell_type": "code",
   "execution_count": 72,
   "metadata": {
    "collapsed": false
   },
   "outputs": [
    {
     "name": "stdout",
     "output_type": "stream",
     "text": [
      "5\n",
      "whether string ends with red: True\n",
      "whether string ends with occu: False\n",
      "whether string starts with the: True\n",
      "whether string starts with t: True\n",
      "whether string starts with hii: False\n"
     ]
    }
   ],
   "source": [
    "s=\"the number of time e occured\"\n",
    "print(s.count(\"e\"))\n",
    "print(\"whether string ends with red:\",s.endswith(\"red\"))\n",
    "print(\"whether string ends with occu:\",s.endswith(\"occu\"))\n",
    "print(\"whether string starts with the:\",s.startswith(\"the\"))\n",
    "print(\"whether string starts with t:\",s.startswith(\"t\"))\n",
    "print(\"whether string starts with hii:\",s.startswith(\"hii\"))"
   ]
  },
  {
   "cell_type": "code",
   "execution_count": 75,
   "metadata": {
    "collapsed": false
   },
   "outputs": [
    {
     "name": "stdout",
     "output_type": "stream",
     "text": [
      "False\n",
      "True\n",
      "False\n",
      "False\n"
     ]
    }
   ],
   "source": [
    "s=\"abcd\"\n",
    "print(s.isnumeric())\n",
    "a=\"1234\"\n",
    "print(a.isnumeric())\n",
    "s=\"abcd1234\"\n",
    "print(s.isnumeric())\n",
    "s=\"1234abcd\"\n",
    "print(s.isnumeric())"
   ]
  },
  {
   "cell_type": "code",
   "execution_count": 77,
   "metadata": {
    "collapsed": false
   },
   "outputs": [
    {
     "name": "stdout",
     "output_type": "stream",
     "text": [
      "1234\n",
      "<class 'int'>\n"
     ]
    }
   ],
   "source": [
    "#we can convert string containing only numbers to int\n",
    "s=\"1234\"\n",
    "a=int(s)\n",
    "print(s)\n",
    "print(type(a))"
   ]
  },
  {
   "cell_type": "code",
   "execution_count": 79,
   "metadata": {
    "collapsed": false
   },
   "outputs": [
    {
     "name": "stdout",
     "output_type": "stream",
     "text": [
      "66666\n"
     ]
    }
   ],
   "source": [
    "print(int(\"12345\")+int(\"54321\"))"
   ]
  },
  {
   "cell_type": "code",
   "execution_count": 81,
   "metadata": {
    "collapsed": false
   },
   "outputs": [
    {
     "name": "stdout",
     "output_type": "stream",
     "text": [
      "hii good morning\n"
     ]
    }
   ],
   "source": [
    "s=\" \".join([\"hii\",\"good\",\"morning\"])\n",
    "print(s)"
   ]
  },
  {
   "cell_type": "code",
   "execution_count": 82,
   "metadata": {
    "collapsed": false
   },
   "outputs": [
    {
     "name": "stdout",
     "output_type": "stream",
     "text": [
      "hii-good-morning\n"
     ]
    }
   ],
   "source": [
    "s=\"-\".join([\"hii\",\"good\",\"morning\"])\n",
    "print(s)"
   ]
  },
  {
   "cell_type": "code",
   "execution_count": 84,
   "metadata": {
    "collapsed": false
   },
   "outputs": [
    {
     "name": "stdout",
     "output_type": "stream",
     "text": [
      "hiisunilgoodsunilmorning\n"
     ]
    }
   ],
   "source": [
    "s=\"sunil\".join([\"hii\",\"good\",\"morning\"])\n",
    "print(s)"
   ]
  },
  {
   "cell_type": "code",
   "execution_count": 85,
   "metadata": {
    "collapsed": false
   },
   "outputs": [
    {
     "name": "stdout",
     "output_type": "stream",
     "text": [
      "gsunilosunilosunildsunil sunilmsunilosunilrsunilnsunilisunilnsunilg\n"
     ]
    }
   ],
   "source": [
    "s=\"sunil\".join(\"good morning\")\n",
    "print(s)"
   ]
  },
  {
   "cell_type": "code",
   "execution_count": 86,
   "metadata": {
    "collapsed": false
   },
   "outputs": [
    {
     "name": "stdout",
     "output_type": "stream",
     "text": [
      "before split():  this is one example\n",
      "after split():  ['this', 'is', 'one', 'example']\n"
     ]
    }
   ],
   "source": [
    "#string to list\n",
    "s=\"this is one example\"\n",
    "print(\"before split(): \",s)\n",
    "print(\"after split(): \",s.split())"
   ]
  },
  {
   "cell_type": "code",
   "execution_count": 96,
   "metadata": {
    "collapsed": false
   },
   "outputs": [
    {
     "name": "stdout",
     "output_type": "stream",
     "text": [
      "USB\n",
      "LAN\n",
      "CN\n"
     ]
    }
   ],
   "source": [
    "def initials(pharse):\n",
    "    words=pharse.split()\n",
    "    #print(words)\n",
    "    result=\"\"\n",
    "    for word in words:\n",
    "        result+=word[0]\n",
    "    return result.upper()\n",
    "print(initials(\"Universal Serial Bus\"))\n",
    "print(initials(\"Local Area Network\"))\n",
    "print(initials(\"computer networks\"))"
   ]
  },
  {
   "cell_type": "code",
   "execution_count": 100,
   "metadata": {
    "collapsed": false
   },
   "outputs": [
    {
     "name": "stdout",
     "output_type": "stream",
     "text": [
      "Hello sunil, your lucky number is 5\n"
     ]
    }
   ],
   "source": [
    "#formating strings\n",
    "name=\"sunil\"\n",
    "number=len(name)\n",
    "print(\"Hello {}, your lucky number is {}\".format(name,number))"
   ]
  },
  {
   "cell_type": "code",
   "execution_count": 101,
   "metadata": {
    "collapsed": false
   },
   "outputs": [
    {
     "name": "stdout",
     "output_type": "stream",
     "text": [
      "Hello sunil, your lucky number is 5\n"
     ]
    }
   ],
   "source": [
    "print(\"Hello {n}, your lucky number is {num}\".format(n=name,num=number))"
   ]
  },
  {
   "cell_type": "code",
   "execution_count": 103,
   "metadata": {
    "collapsed": false
   },
   "outputs": [
    {
     "name": "stdout",
     "output_type": "stream",
     "text": [
      "Radhika recived 86% on the exam\n",
      "Vinay recived 92% on the exam\n"
     ]
    }
   ],
   "source": [
    "def student_grade(name,grade):\n",
    "    return \"{} recived {}% on the exam\".format(name,grade)\n",
    "print(student_grade(\"Radhika\",86))\n",
    "print(student_grade(\"Vinay\",92))"
   ]
  },
  {
   "cell_type": "code",
   "execution_count": 104,
   "metadata": {
    "collapsed": false
   },
   "outputs": [
    {
     "name": "stdout",
     "output_type": "stream",
     "text": [
      "9.2 10.028\n"
     ]
    }
   ],
   "source": [
    "price=9.2\n",
    "with_tax=price*1.09\n",
    "print(price,with_tax)"
   ]
  },
  {
   "cell_type": "code",
   "execution_count": 105,
   "metadata": {
    "collapsed": false
   },
   "outputs": [
    {
     "name": "stdout",
     "output_type": "stream",
     "text": [
      "base price: $9.20. With Tax: $10.03\n"
     ]
    }
   ],
   "source": [
    "price=9.2\n",
    "with_tax=price*1.09\n",
    "print(\"base price: ${:.2f}. With Tax: ${:.2f}\".format(price,with_tax))"
   ]
  },
  {
   "cell_type": "code",
   "execution_count": 106,
   "metadata": {
    "collapsed": false
   },
   "outputs": [
    {
     "name": "stdout",
     "output_type": "stream",
     "text": [
      "base price: $9.2. With Tax: $ 10.03\n"
     ]
    }
   ],
   "source": [
    "price=9.2\n",
    "with_tax=price*1.09\n",
    "print(\"base price: ${:>3}. With Tax: ${:>6.2f}\".format(price,with_tax))"
   ]
  },
  {
   "cell_type": "code",
   "execution_count": 3,
   "metadata": {
    "collapsed": false
   },
   "outputs": [
    {
     "name": "stdout",
     "output_type": "stream",
     "text": [
      "<class 'list'>\n",
      "[1, 2, 3]\n",
      "3\n"
     ]
    }
   ],
   "source": [
    "#list\n",
    "s=[1,2,3]\n",
    "print(type(s))\n",
    "print(s)\n",
    "print(len(s))"
   ]
  },
  {
   "cell_type": "code",
   "execution_count": 4,
   "metadata": {
    "collapsed": false
   },
   "outputs": [
    {
     "name": "stdout",
     "output_type": "stream",
     "text": [
      "False\n",
      "True\n"
     ]
    }
   ],
   "source": [
    "print(5 in s)\n",
    "print(2 in s)"
   ]
  },
  {
   "cell_type": "code",
   "execution_count": 8,
   "metadata": {
    "collapsed": false
   },
   "outputs": [
    {
     "name": "stdout",
     "output_type": "stream",
     "text": [
      "1 2 3\n",
      "<class 'int'>\n",
      "<class 'list'>\n"
     ]
    }
   ],
   "source": [
    "print(s[0],s[1],s[2])\n",
    "print(type(s[0]))\n",
    "print(type(s))"
   ]
  },
  {
   "cell_type": "code",
   "execution_count": 9,
   "metadata": {
    "collapsed": false
   },
   "outputs": [
    {
     "name": "stdout",
     "output_type": "stream",
     "text": [
      "we\n",
      "<class 'str'>\n"
     ]
    }
   ],
   "source": [
    "s=[\"we\",1,2]\n",
    "print(s[0])\n",
    "print(type(s[0]))"
   ]
  },
  {
   "cell_type": "code",
   "execution_count": 13,
   "metadata": {
    "collapsed": false
   },
   "outputs": [
    {
     "name": "stdout",
     "output_type": "stream",
     "text": [
      "['we', 'are']\n",
      "4\n",
      "[4, 3, 2, 1, 'hiring!', 'are', 'we']\n",
      "[1, 2, 3, 4]\n"
     ]
    }
   ],
   "source": [
    "#slicing\n",
    "s=[\"we\",\"are\",\"hiring!\",1,2,3,4]\n",
    "print(s[0:2])\n",
    "print(s[-1])\n",
    "print(s[::-1])\n",
    "print(s[3:])"
   ]
  },
  {
   "cell_type": "code",
   "execution_count": 15,
   "metadata": {
    "collapsed": false
   },
   "outputs": [
    {
     "name": "stdout",
     "output_type": "stream",
     "text": [
      "['apple', 'banana', 'cherry', 'mango']\n",
      "None\n"
     ]
    }
   ],
   "source": [
    "#list are mutable(can change)\n",
    "#append mehod\n",
    "fruits=[\"apple\",\"banana\",\"cherry\"]\n",
    "fruits.append(\"mango\")\n",
    "print(fruits)"
   ]
  },
  {
   "cell_type": "code",
   "execution_count": 19,
   "metadata": {
    "collapsed": false
   },
   "outputs": [
    {
     "name": "stdout",
     "output_type": "stream",
     "text": [
      "<class 'NoneType'>\n",
      "None\n"
     ]
    }
   ],
   "source": [
    "#dont use method like this\n",
    "f=fruits.append(\"jackfruit\")\n",
    "print(type(f))\n",
    "print(f)"
   ]
  },
  {
   "cell_type": "code",
   "execution_count": 23,
   "metadata": {
    "collapsed": false
   },
   "outputs": [
    {
     "name": "stdout",
     "output_type": "stream",
     "text": [
      "[]\n",
      "<class 'list'>\n",
      "[]\n",
      "<class 'list'>\n"
     ]
    }
   ],
   "source": [
    "#creating empty list\n",
    "f=list()\n",
    "print(f)\n",
    "print(type(f))\n",
    "\n",
    "s=[]\n",
    "print(s)\n",
    "print(type(s))"
   ]
  },
  {
   "cell_type": "code",
   "execution_count": 24,
   "metadata": {
    "collapsed": false
   },
   "outputs": [
    {
     "name": "stdout",
     "output_type": "stream",
     "text": [
      "['berry', 'apple', 'banana', 'cherry']\n"
     ]
    }
   ],
   "source": [
    "#insert method(takes index as first parameter)\n",
    "fs=[\"apple\",\"banana\",\"cherry\"]\n",
    "fs.insert(0,\"berry\")\n",
    "print(fs)"
   ]
  },
  {
   "cell_type": "code",
   "execution_count": 26,
   "metadata": {
    "collapsed": false
   },
   "outputs": [
    {
     "name": "stdout",
     "output_type": "stream",
     "text": [
      "['berry', 'apple', 'banana', 'cherry', 'strawberry']\n",
      "5\n",
      "['berry', 'apple', 'banana', 'cherry', 'strawberry', 'strawberry']\n",
      "6\n"
     ]
    }
   ],
   "source": [
    "print(fs)\n",
    "print(len(fs))\n",
    "fs.insert(25,\"strawberry\")#if you give large index value than it will insert at the end.\n",
    "print(fs)\n",
    "print(len(fs))"
   ]
  },
  {
   "cell_type": "code",
   "execution_count": 28,
   "metadata": {
    "collapsed": false
   },
   "outputs": [
    {
     "name": "stdout",
     "output_type": "stream",
     "text": [
      "['berry', 'apple', 'banana', 'cherry', 'strawberry']\n",
      "['berry', 'apple', 'banana', 'cherry']\n"
     ]
    }
   ],
   "source": [
    "#remove method(when yu know list element)\n",
    "print(fs)\n",
    "fs.remove(\"strawberry\")\n",
    "print(fs)"
   ]
  },
  {
   "cell_type": "code",
   "execution_count": 32,
   "metadata": {
    "collapsed": false
   },
   "outputs": [
    {
     "name": "stdout",
     "output_type": "stream",
     "text": [
      "banana\n",
      "['apple', 'cherry']\n"
     ]
    }
   ],
   "source": [
    "#pop method(using index)\n",
    "fs=[\"apple\",\"banana\",\"cherry\"]\n",
    "x=fs.pop(1)\n",
    "print(x)#contain which element deleted\n",
    "print(fs)"
   ]
  },
  {
   "cell_type": "code",
   "execution_count": 35,
   "metadata": {
    "collapsed": false
   },
   "outputs": [
    {
     "name": "stdout",
     "output_type": "stream",
     "text": [
      "['apple', 'cherry']\n",
      "['apple', 'strawberry']\n"
     ]
    }
   ],
   "source": [
    "print(fs)\n",
    "fs[1]=\"strawberry\" #replace fs[1](cherry) with strawberry\n",
    "print(fs)"
   ]
  },
  {
   "cell_type": "code",
   "execution_count": 36,
   "metadata": {
    "collapsed": false
   },
   "outputs": [
    {
     "name": "stdout",
     "output_type": "stream",
     "text": [
      "<class 'tuple'>\n",
      "('Sunil', 'S', 'Shetty')\n"
     ]
    }
   ],
   "source": [
    "#tuples \n",
    "#they are immutable\n",
    "name=('Sunil','S','Shetty')\n",
    "print(type(name))\n",
    "print(name)"
   ]
  },
  {
   "cell_type": "code",
   "execution_count": 37,
   "metadata": {
    "collapsed": false
   },
   "outputs": [
    {
     "name": "stdout",
     "output_type": "stream",
     "text": [
      "(1, 23, 20)\n"
     ]
    }
   ],
   "source": [
    "#program to convert seconds to hh:mm:ss\n",
    "def convert_sec(seconds):\n",
    "    hours=seconds//3600\n",
    "    minutes=(seconds-hours*3600)//60\n",
    "    rem_sec=seconds-hours*3600-minutes*60\n",
    "    return hours,minutes,rem_sec\n",
    "\n",
    "result=convert_sec(5000)\n",
    "print(result)"
   ]
  },
  {
   "cell_type": "code",
   "execution_count": 38,
   "metadata": {
    "collapsed": false
   },
   "outputs": [
    {
     "name": "stdout",
     "output_type": "stream",
     "text": [
      "(1, 23, 20)\n",
      "1 23 20\n"
     ]
    }
   ],
   "source": [
    "print(result)\n",
    "hours,minutes,seconds=result\n",
    "print(hours,minutes,seconds)"
   ]
  },
  {
   "cell_type": "code",
   "execution_count": 42,
   "metadata": {
    "collapsed": false
   },
   "outputs": [
    {
     "name": "stdout",
     "output_type": "stream",
     "text": [
      "total character: 20, Average length: 5.0\n"
     ]
    }
   ],
   "source": [
    "#iterating over list\n",
    "animals=[\"Tiger\",\"Lion\",\"Zebra\",\"Monkey\"]\n",
    "i=0\n",
    "for animal in animals:\n",
    "    i=i+len(animal)\n",
    "    #print(i)\n",
    "    #print(animal)\n",
    "print(\"total character: {}, Average length: {}\".format(i,i/len(animals)))"
   ]
  },
  {
   "cell_type": "code",
   "execution_count": 56,
   "metadata": {
    "collapsed": false
   },
   "outputs": [
    {
     "name": "stdout",
     "output_type": "stream",
     "text": [
      "total character: 20, Average length: 5.0\n"
     ]
    }
   ],
   "source": [
    "animals=[\"Tiger\",\"Lion\",\"Zebra\",\"Monkey\"]\n",
    "chars=0\n",
    "for i in range(len(animals)):\n",
    "    chars=chars+len(animals[i])\n",
    "    #print(i)\n",
    "    #print(animals[i])  \n",
    "print(\"total character: {}, Average length: {}\".format(chars,chars/len(animals)))"
   ]
  },
  {
   "cell_type": "code",
   "execution_count": 60,
   "metadata": {
    "collapsed": false
   },
   "outputs": [
    {
     "name": "stdout",
     "output_type": "stream",
     "text": [
      "1 - apple\n",
      "2 - banana\n",
      "3 - cherry\n"
     ]
    }
   ],
   "source": [
    "#enumerate\n",
    "fruits=[\"apple\",\"banana\",\"cherry\"]\n",
    "for i,fruit in enumerate(fruits):\n",
    "    print(\"{} - {}\".format(i+1,fruit))"
   ]
  },
  {
   "cell_type": "code",
   "execution_count": 68,
   "metadata": {
    "collapsed": false
   },
   "outputs": [
    {
     "name": "stdout",
     "output_type": "stream",
     "text": [
      "['alex cary<alex@example.com>', 'sunil<sunil@gmail.com>', 'xyz<xyz@yahoo.com>']\n"
     ]
    }
   ],
   "source": [
    "def full_emails(people):\n",
    "    result=[]\n",
    "    for email,name in people:\n",
    "        result.append(\"{}<{}>\".format(name,email))\n",
    "    return result\n",
    "    \n",
    "print(full_emails([(\"alex@example.com\",\"alex cary\"),(\"sunil@gmail.com\",\"sunil\"),(\"xyz@yahoo.com\",\"xyz\")]))"
   ]
  },
  {
   "cell_type": "code",
   "execution_count": 69,
   "metadata": {
    "collapsed": false
   },
   "outputs": [
    {
     "name": "stdout",
     "output_type": "stream",
     "text": [
      "[7, 14, 21, 28, 35, 42, 49, 56, 63, 70]\n"
     ]
    }
   ],
   "source": [
    "mul=[]\n",
    "for x in range(1,11):\n",
    "    mul.append(x*7)\n",
    "print(mul)"
   ]
  },
  {
   "cell_type": "code",
   "execution_count": 71,
   "metadata": {
    "collapsed": false
   },
   "outputs": [
    {
     "name": "stdout",
     "output_type": "stream",
     "text": [
      "[7, 14, 21, 28, 35, 42, 49, 56, 63, 70]\n"
     ]
    }
   ],
   "source": [
    "#list comprehension\n",
    "mul=[x*7 for x in range(1,11)]\n",
    "print(mul)"
   ]
  },
  {
   "cell_type": "code",
   "execution_count": 73,
   "metadata": {
    "collapsed": false
   },
   "outputs": [
    {
     "name": "stdout",
     "output_type": "stream",
     "text": [
      "[6, 4, 4, 3]\n"
     ]
    }
   ],
   "source": [
    "languages=[\"python\",\"java\",\"ruby\",\"php\"]\n",
    "lengths=[len(language) for language in languages]\n",
    "print(lengths)"
   ]
  },
  {
   "cell_type": "code",
   "execution_count": 83,
   "metadata": {
    "collapsed": false
   },
   "outputs": [
    {
     "name": "stdout",
     "output_type": "stream",
     "text": [
      "[6, 4, 4, 3]\n"
     ]
    }
   ],
   "source": [
    "languages=[\"python\",\"java\",\"ruby\",\"php\"]\n",
    "lengths=[]\n",
    "for language in languages:\n",
    "    lengths.append(len(language))\n",
    "print(lengths)"
   ]
  },
  {
   "cell_type": "code",
   "execution_count": 85,
   "metadata": {
    "collapsed": false
   },
   "outputs": [
    {
     "name": "stdout",
     "output_type": "stream",
     "text": [
      "[0, 3, 6, 9, 12, 15, 18, 21, 24, 27, 30, 33, 36, 39, 42, 45, 48, 51, 54, 57, 60, 63, 66, 69, 72, 75, 78, 81, 84, 87, 90, 93, 96, 99]\n"
     ]
    }
   ],
   "source": [
    "z=[x for x in range(0,101) if x%3==0]\n",
    "print(z)"
   ]
  },
  {
   "cell_type": "code",
   "execution_count": 1,
   "metadata": {
    "collapsed": false
   },
   "outputs": [
    {
     "name": "stdout",
     "output_type": "stream",
     "text": [
      "<class 'dict'>\n",
      "{}\n"
     ]
    }
   ],
   "source": [
    "#dictionaries\n",
    "#pairs of key and value\n",
    "#its use curly brackets\n",
    "#dictionaries are mutable\n",
    "x={}\n",
    "print(type(x))\n",
    "print(x)"
   ]
  },
  {
   "cell_type": "code",
   "execution_count": 2,
   "metadata": {
    "collapsed": false
   },
   "outputs": [
    {
     "name": "stdout",
     "output_type": "stream",
     "text": [
      "{}\n",
      "<class 'dict'>\n"
     ]
    }
   ],
   "source": [
    "x=dict()\n",
    "print(x)\n",
    "print(type(x))"
   ]
  },
  {
   "cell_type": "code",
   "execution_count": 7,
   "metadata": {
    "collapsed": false
   },
   "outputs": [
    {
     "name": "stdout",
     "output_type": "stream",
     "text": [
      "{'txt': 14, 'csv': 2, 'py': 20, 'jpg': 10}\n"
     ]
    }
   ],
   "source": [
    "file_counts={\"jpg\":10,\"txt\":14,\"csv\":2,\"py\":20}\n",
    "print(file_counts)"
   ]
  },
  {
   "cell_type": "code",
   "execution_count": 4,
   "metadata": {
    "collapsed": false
   },
   "outputs": [
    {
     "name": "stdout",
     "output_type": "stream",
     "text": [
      "dict_keys(['txt', 'csv', 'py', 'jpg'])\n"
     ]
    }
   ],
   "source": [
    "file_counts={\"jpg\":10,\"txt\":14,\"csv\":2,\"py\":20}\n",
    "print(file_counts.keys())"
   ]
  },
  {
   "cell_type": "code",
   "execution_count": 6,
   "metadata": {
    "collapsed": false
   },
   "outputs": [
    {
     "name": "stdout",
     "output_type": "stream",
     "text": [
      "dict_values([14, 2, 20, 10])\n"
     ]
    }
   ],
   "source": [
    "file_counts={\"jpg\":10,\"txt\":14,\"csv\":2,\"py\":20}\n",
    "print(file_counts.values())"
   ]
  },
  {
   "cell_type": "code",
   "execution_count": 8,
   "metadata": {
    "collapsed": false
   },
   "outputs": [
    {
     "name": "stdout",
     "output_type": "stream",
     "text": [
      "2\n"
     ]
    }
   ],
   "source": [
    "file_counts={\"jpg\":10,\"txt\":14,\"csv\":2,\"py\":20}\n",
    "print(file_counts[\"csv\"])"
   ]
  },
  {
   "cell_type": "code",
   "execution_count": 9,
   "metadata": {
    "collapsed": false
   },
   "outputs": [
    {
     "name": "stdout",
     "output_type": "stream",
     "text": [
      "True\n",
      "False\n"
     ]
    }
   ],
   "source": [
    "#in\n",
    "print(\"jpg\" in file_counts)\n",
    "print(\"vs\" in file_counts)"
   ]
  },
  {
   "cell_type": "code",
   "execution_count": 10,
   "metadata": {
    "collapsed": false
   },
   "outputs": [
    {
     "name": "stdout",
     "output_type": "stream",
     "text": [
      "file_counts before update  {'txt': 14, 'csv': 2, 'py': 20, 'jpg': 10}\n",
      "file_count after update  {'txt': 14, 'csv': 2, 'py': 20, 'cfg': 25, 'jpg': 10}\n"
     ]
    }
   ],
   "source": [
    "file_counts={\"jpg\":10,\"txt\":14,\"csv\":2,\"py\":20}\n",
    "print(\"file_counts before update \",file_counts)\n",
    "file_counts[\"cfg\"]=25\n",
    "print(\"file_count after update \",file_counts)"
   ]
  },
  {
   "cell_type": "code",
   "execution_count": 11,
   "metadata": {
    "collapsed": false
   },
   "outputs": [
    {
     "name": "stdout",
     "output_type": "stream",
     "text": [
      "file_counts before update  {'txt': 14, 'csv': 2, 'py': 20, 'jpg': 10}\n",
      "file_count after update  {'txt': 14, 'csv': 25, 'py': 20, 'jpg': 10}\n"
     ]
    }
   ],
   "source": [
    "#using key that is already used\n",
    "file_counts={\"jpg\":10,\"txt\":14,\"csv\":2,\"py\":20}\n",
    "print(\"file_counts before update \",file_counts)\n",
    "file_counts[\"csv\"]=25\n",
    "print(\"file_count after update \",file_counts)"
   ]
  },
  {
   "cell_type": "code",
   "execution_count": 12,
   "metadata": {
    "collapsed": false
   },
   "outputs": [
    {
     "name": "stdout",
     "output_type": "stream",
     "text": [
      "{'txt': 14, 'csv': 25, 'py': 20, 'jpg': 10}\n",
      "{'csv': 25, 'py': 20, 'jpg': 10}\n"
     ]
    }
   ],
   "source": [
    "#delete\n",
    "print(file_counts)\n",
    "del file_counts[\"txt\"]\n",
    "print(file_counts)"
   ]
  },
  {
   "cell_type": "code",
   "execution_count": 13,
   "metadata": {
    "collapsed": false
   },
   "outputs": [
    {
     "name": "stdout",
     "output_type": "stream",
     "text": [
      "txt\n",
      "csv\n",
      "py\n",
      "jpg\n"
     ]
    }
   ],
   "source": [
    "#iterate\n",
    "file_counts={\"jpg\":10,\"txt\":14,\"csv\":2,\"py\":20}\n",
    "for extention in file_counts:\n",
    "    print(extention)"
   ]
  },
  {
   "cell_type": "code",
   "execution_count": 17,
   "metadata": {
    "collapsed": false
   },
   "outputs": [
    {
     "name": "stdout",
     "output_type": "stream",
     "text": [
      "there are 14 files with .txt extension\n",
      "there are 2 files with .csv extension\n",
      "there are 20 files with .py extension\n",
      "there are 10 files with .jpg extension\n"
     ]
    }
   ],
   "source": [
    "file_counts={\"jpg\":10,\"txt\":14,\"csv\":2,\"py\":20}\n",
    "for extention,amount in file_counts.items():\n",
    "    print(\"there are {} files with .{} extension\".format(amount,extention))"
   ]
  },
  {
   "cell_type": "code",
   "execution_count": 18,
   "metadata": {
    "collapsed": false
   },
   "outputs": [
    {
     "name": "stdout",
     "output_type": "stream",
     "text": [
      "dict_keys(['txt', 'csv', 'py', 'jpg'])\n",
      "dict_values([14, 2, 20, 10])\n"
     ]
    }
   ],
   "source": [
    "print(file_counts.keys())\n",
    "print(file_counts.values())"
   ]
  },
  {
   "cell_type": "code",
   "execution_count": 19,
   "metadata": {
    "collapsed": false
   },
   "outputs": [
    {
     "name": "stdout",
     "output_type": "stream",
     "text": [
      "14\n",
      "2\n",
      "20\n",
      "10\n"
     ]
    }
   ],
   "source": [
    "for value in file_counts.values():\n",
    "    print(value)"
   ]
  },
  {
   "cell_type": "code",
   "execution_count": 23,
   "metadata": {
    "collapsed": false
   },
   "outputs": [
    {
     "name": "stdout",
     "output_type": "stream",
     "text": [
      "{'b': 2, 'a': 2, 'c': 3}\n",
      "{'h': 1, 'n': 2, ' ': 2, 'i': 2, 'm': 1, 'r': 1, 'g': 2, 'o': 3, 'd': 1, '!': 1}\n"
     ]
    }
   ],
   "source": [
    "#count how many time each letter is occured in a given text\n",
    "def count_letters(text):\n",
    "    result={}\n",
    "    for letter in text:\n",
    "        if letter not in result:\n",
    "            result[letter]=0\n",
    "        result[letter]+=1\n",
    "    return result\n",
    "\n",
    "x=count_letters(\"aabbccc\")\n",
    "print(x)\n",
    "y=count_letters(\"hi good morning!\")\n",
    "print(y)         "
   ]
  },
  {
   "cell_type": "code",
   "execution_count": 39,
   "metadata": {
    "collapsed": false
   },
   "outputs": [
    {
     "name": "stdout",
     "output_type": "stream",
     "text": [
      "{'c': {'c++': 5, 'c': 20}, 'txt': 'fifty', 'csv': [10, 2], 'py': 20, 'jpg': 10}\n",
      "dict_values([{'c++': 5, 'c': 20}, 'fifty', [10, 2], 20, 10])\n",
      "{'c++': 5, 'c': 20}\n"
     ]
    }
   ],
   "source": [
    "#in dictionary values can have different data type\n",
    "#but keys must have same data type\n",
    "#example for values can have different data types\n",
    "file_counts={\"jpg\":10,\"txt\":\"fifty\",\"csv\":[10,2],\"py\":20,\"c\":{\"c\":20,\"c++\":5}}\n",
    "print(file_counts)\n",
    "print(file_counts.values())\n",
    "print(file_counts[\"c\"])"
   ]
  },
  {
   "cell_type": "code",
   "execution_count": 25,
   "metadata": {
    "collapsed": false
   },
   "outputs": [
    {
     "name": "stdout",
     "output_type": "stream",
     "text": [
      "{'txt': 14, 'csv': 2, 'py': 20, 'jpg': 10}\n"
     ]
    }
   ],
   "source": [
    "#example for having same datatype for keys\n",
    "file_counts={\"jpg\":10,\"txt\":14,\"csv\":2,\"py\":20}\n",
    "print(file_counts)"
   ]
  },
  {
   "cell_type": "code",
   "execution_count": 26,
   "metadata": {
    "collapsed": false
   },
   "outputs": [
    {
     "ename": "TypeError",
     "evalue": "unhashable type: 'list'",
     "output_type": "error",
     "traceback": [
      "\u001b[0;31m---------------------------------------------------------------------------\u001b[0m",
      "\u001b[0;31mTypeError\u001b[0m                                 Traceback (most recent call last)",
      "\u001b[0;32m<ipython-input-26-facec001c969>\u001b[0m in \u001b[0;36m<module>\u001b[0;34m()\u001b[0m\n\u001b[1;32m      1\u001b[0m \u001b[1;31m#example for having different data types for keys\u001b[0m\u001b[1;33m\u001b[0m\u001b[1;33m\u001b[0m\u001b[0m\n\u001b[1;32m      2\u001b[0m \u001b[1;31m#it will raise error\u001b[0m\u001b[1;33m\u001b[0m\u001b[1;33m\u001b[0m\u001b[0m\n\u001b[0;32m----> 3\u001b[0;31m \u001b[0mfile_counts\u001b[0m\u001b[1;33m=\u001b[0m\u001b[1;33m{\u001b[0m\u001b[1;34m\"jpg\"\u001b[0m\u001b[1;33m:\u001b[0m\u001b[1;36m10\u001b[0m\u001b[1;33m,\u001b[0m\u001b[1;36m10\u001b[0m\u001b[1;33m:\u001b[0m\u001b[1;36m14\u001b[0m\u001b[1;33m,\u001b[0m\u001b[1;33m[\u001b[0m\u001b[1;36m5\u001b[0m\u001b[1;33m]\u001b[0m\u001b[1;33m:\u001b[0m\u001b[1;36m2\u001b[0m\u001b[1;33m,\u001b[0m\u001b[1;34m\"py\"\u001b[0m\u001b[1;33m:\u001b[0m\u001b[1;36m20\u001b[0m\u001b[1;33m}\u001b[0m\u001b[1;33m\u001b[0m\u001b[0m\n\u001b[0m",
      "\u001b[0;31mTypeError\u001b[0m: unhashable type: 'list'"
     ]
    }
   ],
   "source": [
    "#example for having different data types for keys\n",
    "#it will raise error\n",
    "file_counts={\"jpg\":10,10:14,[5]:2,\"py\":20}"
   ]
  },
  {
   "cell_type": "code",
   "execution_count": 36,
   "metadata": {
    "collapsed": false
   },
   "outputs": [
    {
     "name": "stdout",
     "output_type": "stream",
     "text": [
      "{'txt': 14, 'csv': 2, 4: 20, 'jpg': 10}\n",
      "20\n"
     ]
    },
    {
     "ename": "TypeError",
     "evalue": "unhashable type: 'list'",
     "output_type": "error",
     "traceback": [
      "\u001b[0;31m---------------------------------------------------------------------------\u001b[0m",
      "\u001b[0;31mTypeError\u001b[0m                                 Traceback (most recent call last)",
      "\u001b[0;32m<ipython-input-36-4baa8a62b08b>\u001b[0m in \u001b[0;36m<module>\u001b[0;34m()\u001b[0m\n\u001b[1;32m      3\u001b[0m \u001b[0mprint\u001b[0m\u001b[1;33m(\u001b[0m\u001b[0mfile_counts\u001b[0m\u001b[1;33m)\u001b[0m\u001b[1;33m\u001b[0m\u001b[0m\n\u001b[1;32m      4\u001b[0m \u001b[0mprint\u001b[0m\u001b[1;33m(\u001b[0m\u001b[0mfile_counts\u001b[0m\u001b[1;33m[\u001b[0m\u001b[1;33m(\u001b[0m\u001b[1;36m4\u001b[0m\u001b[1;33m)\u001b[0m\u001b[1;33m]\u001b[0m\u001b[1;33m)\u001b[0m\u001b[1;33m\u001b[0m\u001b[0m\n\u001b[0;32m----> 5\u001b[0;31m \u001b[0mfile_counts\u001b[0m\u001b[1;33m=\u001b[0m\u001b[1;33m{\u001b[0m\u001b[1;34m\"jpg\"\u001b[0m\u001b[1;33m:\u001b[0m\u001b[1;36m10\u001b[0m\u001b[1;33m,\u001b[0m\u001b[1;34m\"txt\"\u001b[0m\u001b[1;33m:\u001b[0m\u001b[1;36m14\u001b[0m\u001b[1;33m,\u001b[0m\u001b[1;33m[\u001b[0m\u001b[1;36m10\u001b[0m\u001b[1;33m,\u001b[0m\u001b[1;36m2\u001b[0m\u001b[1;33m]\u001b[0m\u001b[1;33m:\u001b[0m\u001b[1;36m2\u001b[0m\u001b[1;33m,\u001b[0m\u001b[1;34m\"py\"\u001b[0m\u001b[1;33m:\u001b[0m\u001b[1;36m20\u001b[0m\u001b[1;33m}\u001b[0m\u001b[1;33m\u001b[0m\u001b[0m\n\u001b[0m",
      "\u001b[0;31mTypeError\u001b[0m: unhashable type: 'list'"
     ]
    }
   ],
   "source": [
    "#error2 can't use list or dictionary as key value\n",
    "file_counts={\"jpg\":10,\"txt\":14,\"csv\":2,(4):20}\n",
    "print(file_counts)\n",
    "print(file_counts[(4)])\n",
    "file_counts={\"jpg\":10,\"txt\":14,[10,2]:2,\"py\":20}"
   ]
  },
  {
   "cell_type": "code",
   "execution_count": 52,
   "metadata": {
    "collapsed": false
   },
   "outputs": [
    {
     "name": "stdout",
     "output_type": "stream",
     "text": [
      "not present\n",
      "0\n"
     ]
    }
   ],
   "source": [
    "#methods\n",
    "file_counts={\"jpg\":10,\"txt\":14,\"csv\":2,\"py\":20}\n",
    "print(file_counts.get(\"jpeg\",\"not present\"))#file_counts.get(key,default)\n",
    "print(file_counts.get(\"jpeg\",0))\n"
   ]
  },
  {
   "cell_type": "code",
   "execution_count": 57,
   "metadata": {
    "collapsed": false
   },
   "outputs": [
    {
     "name": "stdout",
     "output_type": "stream",
     "text": [
      "{'txt': 14, 'csv': 2, 'py': 20, 'jpg': 10}\n",
      "{'jpeg': 10, 'csv': 5, 'py': 24, 'c': 14}\n",
      "after update method\n",
      "{'txt': 14, 'c': 14, 'jpg': 10, 'jpeg': 10, 'py': 24, 'csv': 5}\n"
     ]
    }
   ],
   "source": [
    "file_counts={\"jpg\":10,\"txt\":14,\"csv\":2,\"py\":20}\n",
    "print(file_counts)\n",
    "file={\"jpeg\":10,\"c\":14,\"csv\":5,\"py\":24}\n",
    "print(file)\n",
    "print(\"after update method\")\n",
    "file_counts.update(file)\n",
    "print(file_counts)"
   ]
  }
 ],
 "metadata": {
  "anaconda-cloud": {},
  "kernelspec": {
   "display_name": "Python [conda env:Anaconda2]",
   "language": "python",
   "name": "conda-env-Anaconda2-py"
  },
  "language_info": {
   "codemirror_mode": {
    "name": "ipython",
    "version": 3
   },
   "file_extension": ".py",
   "mimetype": "text/x-python",
   "name": "python",
   "nbconvert_exporter": "python",
   "pygments_lexer": "ipython3",
   "version": "3.5.6"
  }
 },
 "nbformat": 4,
 "nbformat_minor": 1
}
