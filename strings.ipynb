{
 "cells": [
  {
   "cell_type": "code",
   "execution_count": 2,
   "metadata": {
    "collapsed": false,
    "nbpresent": {
     "id": "039a2ed6-c68c-4227-994b-ed500b779490"
    }
   },
   "outputs": [
    {
     "name": "stdout",
     "output_type": "stream",
     "text": [
      "<class 'str'>\n"
     ]
    }
   ],
   "source": [
    "s=\"sunil\"\n",
    "print(type(s))"
   ]
  },
  {
   "cell_type": "code",
   "execution_count": 7,
   "metadata": {
    "collapsed": false,
    "nbpresent": {
     "id": "e76a48f4-2026-4f27-961b-55cc3a649d83"
    }
   },
   "outputs": [
    {
     "name": "stdout",
     "output_type": "stream",
     "text": [
      "first letter  s\n",
      "second letter  u\n",
      "third letter  n\n",
      "fourth letter  i\n",
      "fifth letter  l\n"
     ]
    }
   ],
   "source": [
    "#print each letter in string\n",
    "s=\"sunil\"\n",
    "letter=s[0]\n",
    "print('first letter ',letter)\n",
    "print('second letter ',s[1])\n",
    "print('third letter ',s[2])\n",
    "print('fourth letter ',s[3])\n",
    "print('fifth letter ',s[4])"
   ]
  },
  {
   "cell_type": "code",
   "execution_count": 8,
   "metadata": {
    "collapsed": false,
    "nbpresent": {
     "id": "0ed8dd93-adb6-446b-a2ca-f5666464a32e"
    }
   },
   "outputs": [
    {
     "name": "stdout",
     "output_type": "stream",
     "text": [
      "5\n"
     ]
    }
   ],
   "source": [
    "#finding string length\n",
    "s=\"sunil\"\n",
    "print(len(s))"
   ]
  },
  {
   "cell_type": "code",
   "execution_count": 10,
   "metadata": {
    "collapsed": false,
    "nbpresent": {
     "id": "666ade6b-eea7-4202-808c-576ddf020460"
    }
   },
   "outputs": [
    {
     "name": "stdout",
     "output_type": "stream",
     "text": [
      "s\n",
      "u\n",
      "n\n",
      "i\n",
      "l\n",
      " \n",
      "s\n",
      "h\n",
      "e\n",
      "t\n",
      "t\n",
      "y\n"
     ]
    }
   ],
   "source": [
    "#traversal\n",
    "s=\"sunil shetty\"\n",
    "i=0\n",
    "while i<len(s):\n",
    "    letter=s[i]\n",
    "    print(letter)\n",
    "    i=i+1"
   ]
  },
  {
   "cell_type": "code",
   "execution_count": 23,
   "metadata": {
    "collapsed": false,
    "nbpresent": {
     "id": "51655a74-8d37-482d-ab62-68321d6fd631"
    }
   },
   "outputs": [
    {
     "name": "stdout",
     "output_type": "stream",
     "text": [
      "Sunil\n",
      "Shetty\n",
      "Sunil\n",
      "l Shetty\n",
      "\n",
      "Sunil She\n",
      "ty\n",
      "yttehS linuS\n"
     ]
    }
   ],
   "source": [
    "#string slices\n",
    "s=\"Sunil Shetty\"\n",
    "print(s[0:5])\n",
    "print(s[6:12])\n",
    "print(s[:5])#it take starting position as 0\n",
    "print(s[4:])#it takes ending positin as last index\n",
    "print(s[2:2])#print empty string\n",
    "print(s[:-3])\n",
    "print(s[-2:])\n",
    "print(s[::-1])#reverse the string"
   ]
  },
  {
   "cell_type": "code",
   "execution_count": 24,
   "metadata": {
    "collapsed": false,
    "nbpresent": {
     "id": "e00a7bcf-c8c4-4e55-9e50-19cac417d17a"
    }
   },
   "outputs": [
    {
     "name": "stdout",
     "output_type": "stream",
     "text": [
      "Anil Shetty\n"
     ]
    }
   ],
   "source": [
    "#replace letter in a given word\n",
    "s=\"Sunil Shetty\"\n",
    "new_s='A'+s[2:]\n",
    "print(new_s)"
   ]
  },
  {
   "cell_type": "code",
   "execution_count": 30,
   "metadata": {
    "collapsed": false,
    "nbpresent": {
     "id": "b94ab084-60ed-4b46-8496-17ee0b7200f5"
    }
   },
   "outputs": [
    {
     "name": "stdout",
     "output_type": "stream",
     "text": [
      "enter the letter to find how many times it appeared in a string: t\n",
      "2\n"
     ]
    }
   ],
   "source": [
    "#counts the number of times the letter appears in a string\n",
    "s=\"Sunil Shetty\"\n",
    "c=0\n",
    "inp=input(\"enter the letter to find how many times it appeared in a string: \")\n",
    "for letter in s:\n",
    "    if letter==inp:\n",
    "        c=c+1\n",
    "print(c)\n",
    "        "
   ]
  },
  {
   "cell_type": "code",
   "execution_count": 32,
   "metadata": {
    "collapsed": false,
    "nbpresent": {
     "id": "b3cfc590-1db6-4701-a73c-8f6f9f86c238"
    }
   },
   "outputs": [
    {
     "name": "stdout",
     "output_type": "stream",
     "text": [
      "True\n",
      "False\n"
     ]
    }
   ],
   "source": [
    "#in operator\n",
    "print('s'in 'sunil')\n",
    "print('a' in 'sunil')"
   ]
  },
  {
   "cell_type": "code",
   "execution_count": 33,
   "metadata": {
    "collapsed": false,
    "nbpresent": {
     "id": "629e5e0e-615d-4f27-aed2-1b32b6281cc3"
    }
   },
   "outputs": [
    {
     "name": "stdout",
     "output_type": "stream",
     "text": [
      "same\n"
     ]
    }
   ],
   "source": [
    "#string comparision\n",
    "s=\"sunil\"\n",
    "if s==\"sunil\":\n",
    "    print(\"same\")"
   ]
  },
  {
   "cell_type": "code",
   "execution_count": 34,
   "metadata": {
    "collapsed": false,
    "nbpresent": {
     "id": "4f13eba4-7aab-4214-8c79-47e503464eb0"
    }
   },
   "outputs": [
    {
     "name": "stdout",
     "output_type": "stream",
     "text": [
      "banana comes after apple\n"
     ]
    }
   ],
   "source": [
    "#compare letter by letter\n",
    "if 'banana'<'apple':\n",
    "    print('banana comes before apple')\n",
    "else:\n",
    "    print('banana comes after apple')"
   ]
  },
  {
   "cell_type": "code",
   "execution_count": 35,
   "metadata": {
    "collapsed": false,
    "nbpresent": {
     "id": "56c0f6f5-dc3d-4cc6-b3d2-e38eb0a91fe0"
    }
   },
   "outputs": [
    {
     "name": "stdout",
     "output_type": "stream",
     "text": [
      "banana comes before apple\n"
     ]
    }
   ],
   "source": [
    "#All the uppercase letters come before all the lowercase letters\n",
    "if 'Banana'<'apple':\n",
    "    print('banana comes before apple')\n",
    "else:\n",
    "    print('banana comes after apple')"
   ]
  },
  {
   "cell_type": "code",
   "execution_count": 36,
   "metadata": {
    "collapsed": false,
    "nbpresent": {
     "id": "74006207-6bfa-4857-a492-275517a539de"
    }
   },
   "outputs": [
    {
     "name": "stdout",
     "output_type": "stream",
     "text": [
      "['__add__', '__class__', '__contains__', '__delattr__', '__dir__', '__doc__', '__eq__', '__format__', '__ge__', '__getattribute__', '__getitem__', '__getnewargs__', '__gt__', '__hash__', '__init__', '__iter__', '__le__', '__len__', '__lt__', '__mod__', '__mul__', '__ne__', '__new__', '__reduce__', '__reduce_ex__', '__repr__', '__rmod__', '__rmul__', '__setattr__', '__sizeof__', '__str__', '__subclasshook__', 'capitalize', 'casefold', 'center', 'count', 'encode', 'endswith', 'expandtabs', 'find', 'format', 'format_map', 'index', 'isalnum', 'isalpha', 'isdecimal', 'isdigit', 'isidentifier', 'islower', 'isnumeric', 'isprintable', 'isspace', 'istitle', 'isupper', 'join', 'ljust', 'lower', 'lstrip', 'maketrans', 'partition', 'replace', 'rfind', 'rindex', 'rjust', 'rpartition', 'rsplit', 'rstrip', 'split', 'splitlines', 'startswith', 'strip', 'swapcase', 'title', 'translate', 'upper', 'zfill']\n"
     ]
    }
   ],
   "source": [
    "#string methods\n",
    "s=\"sunil\"\n",
    "print(dir(s)) #shows available methods"
   ]
  },
  {
   "cell_type": "code",
   "execution_count": 38,
   "metadata": {
    "collapsed": false,
    "nbpresent": {
     "id": "f3cddd4f-e28b-4638-a704-c33e2e9571a4"
    }
   },
   "outputs": [
    {
     "name": "stdout",
     "output_type": "stream",
     "text": [
      "Sunil\n"
     ]
    }
   ],
   "source": [
    "s=\"sunil\"\n",
    "print(s.capitalize())#convert first letter of string to capital letter"
   ]
  },
  {
   "cell_type": "code",
   "execution_count": 40,
   "metadata": {
    "collapsed": false,
    "nbpresent": {
     "id": "fd4462de-c364-43ea-8411-11ed851b5b0c"
    }
   },
   "outputs": [
    {
     "name": "stdout",
     "output_type": "stream",
     "text": [
      "converted to upper case  HELLO GOOD MORNING\n",
      "starts with He  True\n",
      "starts with h  False\n",
      "lower case  hello good morning\n",
      "find index of letter which comes first in a string  4\n"
     ]
    }
   ],
   "source": [
    "#example\n",
    "s=\"Hello Good Morning\"\n",
    "print(\"converted to upper case \",s.upper())\n",
    "print(\"starts with He \",s.startswith('He'))\n",
    "print(\"starts with h \",s.startswith('h'))\n",
    "print(\"lower case \",s.lower())\n",
    "print(\"find index of letter which comes first in a string \",s.find('o'))"
   ]
  },
  {
   "cell_type": "code",
   "execution_count": 41,
   "metadata": {
    "collapsed": false,
    "nbpresent": {
     "id": "32e96105-424e-4b38-ab11-ab2c0ecee18a"
    }
   },
   "outputs": [
    {
     "name": "stdout",
     "output_type": "stream",
     "text": [
      "Sunil\n"
     ]
    }
   ],
   "source": [
    "s=\"    Sunil\"\n",
    "print(s.strip())#removes blank space"
   ]
  },
  {
   "cell_type": "code",
   "execution_count": 47,
   "metadata": {
    "collapsed": false,
    "nbpresent": {
     "id": "58d73f52-b599-49b7-9b9b-989399ef6e69"
    }
   },
   "outputs": [
    {
     "name": "stdout",
     "output_type": "stream",
     "text": [
      "before right strip  13\n",
      "    Sunil\n",
      "after right strip : 9\n"
     ]
    }
   ],
   "source": [
    "s=\"    Sunil    \"\n",
    "print('before right strip ',len(s))\n",
    "l=s.rstrip()#removes blank space from right side\n",
    "print(l)\n",
    "print('after right strip :',len(l))"
   ]
  },
  {
   "cell_type": "code",
   "execution_count": 48,
   "metadata": {
    "collapsed": false,
    "nbpresent": {
     "id": "9557a5bd-b083-49f8-9154-b2253f013b73"
    }
   },
   "outputs": [
    {
     "name": "stdout",
     "output_type": "stream",
     "text": [
      "before left strip  13\n",
      "Sunil    \n",
      "after left strip : 9\n"
     ]
    }
   ],
   "source": [
    "s=\"    Sunil    \"\n",
    "print('before left strip ',len(s))\n",
    "l=s.lstrip()#removes blank space from left side\n",
    "print(l)\n",
    "print('after left strip :',len(l))"
   ]
  },
  {
   "cell_type": "code",
   "execution_count": 55,
   "metadata": {
    "collapsed": false,
    "nbpresent": {
     "id": "920629a7-35bb-4392-af3b-f92e79e22bd0"
    }
   },
   "outputs": [
    {
     "name": "stdout",
     "output_type": "stream",
     "text": [
      "name in mail id is:  sunilsshetty07\n",
      "mail server name:  gmail.com\n"
     ]
    }
   ],
   "source": [
    "#program to extract name, mail server from mail id\n",
    "mail = 'sunilsshetty07@gmail.com'\n",
    "atposition=mail.find('@')\n",
    "#print(atposition)\n",
    "name=mail[:atposition]\n",
    "print('name in mail id is: ',name)\n",
    "mail_server=mail[atposition+1:]\n",
    "print('mail server name: ',mail_server)"
   ]
  },
  {
   "cell_type": "code",
   "execution_count": 60,
   "metadata": {
    "collapsed": false,
    "nbpresent": {
     "id": "f659c377-58b4-4e1b-9fa1-0ad2f649299b"
    }
   },
   "outputs": [
    {
     "name": "stdout",
     "output_type": "stream",
     "text": [
      "I have found 25 dogs. \n"
     ]
    }
   ],
   "source": [
    "#format operator\n",
    "dogs=25\n",
    "print('I have found %d dogs. '%dogs)# %d replace with 25"
   ]
  },
  {
   "cell_type": "code",
   "execution_count": 61,
   "metadata": {
    "collapsed": false,
    "nbpresent": {
     "id": "20541695-f7cb-4519-9bc9-6b0ffc2ac9dd"
    }
   },
   "outputs": [
    {
     "name": "stdout",
     "output_type": "stream",
     "text": [
      "In 3 years I have spotted 0.2 dogs.\n"
     ]
    }
   ],
   "source": [
    "# %d for decimals\n",
    "# %g for floating point numbers\n",
    "# %s for strings\n",
    "print('In %d years I have spotted %g %s.' % (3, 0.2, 'dogs'))"
   ]
  }
 ],
 "metadata": {
  "anaconda-cloud": {},
  "kernelspec": {
   "display_name": "Python [conda root]",
   "language": "python",
   "name": "conda-root-py"
  },
  "language_info": {
   "codemirror_mode": {
    "name": "ipython",
    "version": 3
   },
   "file_extension": ".py",
   "mimetype": "text/x-python",
   "name": "python",
   "nbconvert_exporter": "python",
   "pygments_lexer": "ipython3",
   "version": "3.5.6"
  }
 },
 "nbformat": 4,
 "nbformat_minor": 1
}
